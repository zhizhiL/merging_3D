{
 "cells": [
  {
   "cell_type": "code",
   "execution_count": null,
   "metadata": {},
   "outputs": [],
   "source": [
    "import numpy as np\n",
    "import matplotlib.pyplot as plt \n",
    "from mpl_toolkits.mplot3d import Axes3D\n",
    "import scipy as sp\n",
    "from multiprocessing import Pool"
   ]
  },
  {
   "cell_type": "code",
   "execution_count": null,
   "metadata": {},
   "outputs": [],
   "source": [
    "N_realisation =0\n",
    "np.random.seed(N_realisation)\n",
    "particle_line_density = 20\n",
    "N0_particle = 20 ** 3\n",
    "\n",
    "# XP0 = np.random.uniform(-2, 2, N0_particle) \n",
    "# YP0 = np.random.uniform(-2, 2, N0_particle)\n",
    "# ZP0 = np.random.uniform(-2, 2, N0_particle)\n",
    "\n",
    "xp0 = np.linspace(-2, 2, particle_line_density)\n",
    "yp0 = np.linspace(-2, 2, particle_line_density)\n",
    "zp0 = np.linspace(-2, 2, particle_line_density)\n",
    "\n",
    "XP0, YP0, ZP0 = np.meshgrid(xp0, yp0, zp0, indexing='ij')\n",
    "\n",
    "St0 = 1\n",
    "R0 = 1\n",
    "a = R0\n",
    "# a, alpha, R, Fr, gravity = 1, 1, 2/3, 5, False\n",
    "\n",
    "xl, xr = -2, 2\n",
    "yl, yr = -2, 2\n",
    "zd, zu = -2, 2\n",
    "\n",
    "dx_col, dy_col, dz_col = 1, 1, 1\n",
    "Nx_col, Ny_col, Nz_col = 4, 4, 4\n",
    "gridA_xc, gridA_yc, gridA_zc = np.meshgrid(np.linspace(xl+dx_col/2, xr-dx_col/2, Nx_col), \n",
    "                                           np.linspace(yl+dy_col/2, yr-dy_col, Ny_col), \n",
    "                                           np.linspace(zd+dz_col/2, zu-dz_col/2, Nz_col), indexing='ij')\n",
    "gridB_xc, gridB_yc, gridB_zc = np.meshgrid(np.linspace(xl, xr, Nx_col+1), np.linspace(yl, yr, Ny_col+1), np.linspace(zd, zu, Nz_col+1), indexing='ij')\n",
    "\n",
    "# Plot grid lines\n",
    "fig = plt.figure()\n",
    "ax = fig.add_subplot(111, projection='3d')\n",
    "\n",
    "# # Plot lines along x-axis\n",
    "# for i in range(Ny_col):\n",
    "#     for j in range(Nz_col):\n",
    "#         ax.plot(gridA_xc[:, i, j], gridA_yc[:, i, j], gridA_zc[:, i, j], color='r',linestyle='--')\n",
    "\n",
    "# # Plot lines along y-axis\n",
    "# for i in range(Nx_col):\n",
    "#     for j in range(Nz_col):\n",
    "#         ax.plot(gridA_xc[i, :, j], gridA_yc[i, :, j], gridA_zc[i, :, j], color='g',linestyle='--')\n",
    "\n",
    "\n",
    "# # Plot lines along z-axis\n",
    "# for i in range(Nx_col):\n",
    "#     for j in range(Ny_col):\n",
    "#         ax.plot(gridA_xc[i, j, :], gridA_yc[i, j, :], gridA_zc[i, j, :], color='b',linestyle='--')\n",
    "\n",
    "\n",
    "ax.set_xlabel('X')\n",
    "ax.set_ylabel('Y')\n",
    "ax.set_zlabel('Z')\n",
    "\n",
    "ax.scatter(XP0, YP0, ZP0,s=0.01, c='k', marker='o')\n",
    "\n",
    "\n",
    "plt.show()"
   ]
  },
  {
   "cell_type": "code",
   "execution_count": null,
   "metadata": {},
   "outputs": [],
   "source": [
    "X, Y, Z = np.meshgrid(np.linspace(-2, 2, 101), np.linspace(-2, 2, 100), np.linspace(-2, 2, 101), indexing='ij')\n",
    "if Y.any() == 0:\n",
    "    raise ValueError('Y cannot be zero')\n",
    "PHI = np.arctan(Z/Y)\n",
    "dist = np.sqrt(X**2 + Y**2 + Z**2)\n",
    "r_planar = np.sqrt(Z**2 + Y**2)\n",
    "\n",
    "mask = dist > R0\n",
    "\n",
    "Ux = -(2 * (r_planar)**2 + X**2 -1) / 5\n",
    "Ux[mask] = (-(a**5)/15) * (2/(a**3) + (r_planar[mask]**2 - 2*(X[mask]**2))/(dist[mask]**5))\n",
    "\n",
    "Ur = X * r_planar / 5\n",
    "Ur[mask] = (a**5) * X[mask] * r_planar[mask] / (5 * dist[mask]**5)\n",
    "\n",
    "Uy = Ur * Y / r_planar\n",
    "Uz = Ur * Z / r_planar\n",
    "\n",
    "# a simple test to verify result\n",
    "# test = Uy[:, :, 50]\n",
    "# plt.contourf(X[:, :, 50], Y[:, :, 50], test, 50)\n",
    "# plt.colorbar()\n",
    "\n",
    "# # Plot velocity field\n",
    "# ax = plt.figure().add_subplot(projection='3d')\n",
    "# ax.quiver(X, Y, Z, Ux, Uy, Uz, length=0.2, normalize=True)\n",
    "\n",
    "\n",
    "# plt.show()"
   ]
  },
  {
   "cell_type": "code",
   "execution_count": null,
   "metadata": {},
   "outputs": [],
   "source": [
    "fig = plt.figure()\n",
    "ax = fig.add_subplot(111, projection='3d')\n",
    "img = ax.scatter(X[dist<=R0], Y[dist<=R0], Z[dist<=R0], c=Uz[dist<=R0], s=0.1,  cmap='bwr')\n",
    "fig.colorbar(img)\n",
    "plt.xlabel('X')\n",
    "plt.ylabel('Y')\n",
    "plt.show()"
   ]
  },
  {
   "cell_type": "code",
   "execution_count": null,
   "metadata": {},
   "outputs": [],
   "source": [
    "import advect_bubbles_3d as adv3D\n",
    "import parallel_advect_bubbles_3d as pab3d\n",
    "\n",
    "Bubbles_to_adv = np.hstack((np.arange(N0_particle)[:, np.newaxis], \n",
    "                            XP0.flatten()[:, np.newaxis], YP0.flatten()[:, np.newaxis], ZP0.flatten()[:, np.newaxis], \n",
    "                            np.zeros((N0_particle, 3)), St0 * np.ones((N0_particle, 1))))\n",
    "\n",
    "\n",
    "updated_states = pab3d.main(initial_states = Bubbles_to_adv[:, 1:], t0=0.0, tf=150.0)"
   ]
  },
  {
   "cell_type": "code",
   "execution_count": null,
   "metadata": {},
   "outputs": [],
   "source": [
    "import plot_bubbles\n",
    "\n",
    "plot_bubbles.plot_bubbles(updated_states, R0)"
   ]
  },
  {
   "cell_type": "code",
   "execution_count": null,
   "metadata": {},
   "outputs": [],
   "source": [
    "time = -1\n",
    "inside = np.sqrt(x_out[:, time]**2 + y_out[:, time]**2 + z_out[:, time]**2) <= R0\n",
    "\n",
    "# check = np.sqrt(x[inside, 0, time]**2 + out[inside, 1, time]**2 + out[inside, 2, time]**2)\n",
    "avg_loc = np.mean(x_out[inside, time]), np.mean(y_out[inside, time]), np.mean(z_out[inside, time])\n",
    "avg_loc"
   ]
  }
 ],
 "metadata": {
  "kernelspec": {
   "display_name": "base",
   "language": "python",
   "name": "python3"
  },
  "language_info": {
   "codemirror_mode": {
    "name": "ipython",
    "version": 3
   },
   "file_extension": ".py",
   "mimetype": "text/x-python",
   "name": "python",
   "nbconvert_exporter": "python",
   "pygments_lexer": "ipython3",
   "version": "3.9.12"
  }
 },
 "nbformat": 4,
 "nbformat_minor": 2
}
